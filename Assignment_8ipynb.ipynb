{
  "nbformat": 4,
  "nbformat_minor": 0,
  "metadata": {
    "colab": {
      "provenance": [],
      "authorship_tag": "ABX9TyMAcHY221ul4ETWa975ACcA",
      "include_colab_link": true
    },
    "kernelspec": {
      "name": "python3",
      "display_name": "Python 3"
    },
    "language_info": {
      "name": "python"
    }
  },
  "cells": [
    {
      "cell_type": "markdown",
      "metadata": {
        "id": "view-in-github",
        "colab_type": "text"
      },
      "source": [
        "<a href=\"https://colab.research.google.com/github/YSRani/FMML_LAB-MODULES/blob/main/Assignment_8ipynb.ipynb\" target=\"_parent\"><img src=\"https://colab.research.google.com/assets/colab-badge.svg\" alt=\"Open In Colab\"/></a>"
      ]
    },
    {
      "cell_type": "markdown",
      "source": [
        "#MODULES:-                \n",
        "\n",
        "#1.INTRODUCTION TO MODULAR PROGRAMMING.                  2.IMPORTING MODULES AND DIFFERENT IMPORT STATEMENTS.                  \n",
        "#3.TYPES OF MODULES."
      ],
      "metadata": {
        "id": "sjucpvEEukUF"
      }
    },
    {
      "cell_type": "markdown",
      "source": [
        "#ANSWERS:"
      ],
      "metadata": {
        "id": "RRS8bV8KvUpM"
      }
    },
    {
      "cell_type": "markdown",
      "source": [
        "#1.INTRODUCTION TO MODULAR PROGRAMMING:-\n",
        "\n",
        "->>Modular programming in python involves breaking down a program into smaller,manageable modules or functios,each responsible for a specific task.                        \n",
        "->>This promotes code reusability,maintainability,and easier collaboration.                         \n",
        "->>Modules can be imported into other modules using the import statement.\n",
        "->>we can create modules using .py files and import them into your main program."
      ],
      "metadata": {
        "id": "QmemZKLCvZP3"
      }
    },
    {
      "cell_type": "code",
      "source": [
        "def add(a,b):\n",
        "    return a+b\n",
        "def subtract(a,b):\n",
        "    return a-b\n",
        "def multiply(a,b):\n",
        "    return a*b\n",
        "def main():\n",
        "    a=float(input(\"enter first number:\"))\n",
        "    b=float(input(\"enter second number:\"))\n",
        "    print(\"select operation\")\n",
        "    print(\"1.add\")\n",
        "    print(\"2.subtract\")\n",
        "    print(\"3.multiply\")\n",
        "    choice=int(input(\"entered your choice(1/2/3):\"))\n",
        "    if choice==1:\n",
        "        result=add(a,b)\n",
        "    elif choice==2:\n",
        "        result=subtract(a,b)\n",
        "    elif choice==3:\n",
        "        result=multiply(a,b)\n",
        "    else:\n",
        "        result=\"invalid choice\"\n",
        "    print(\"result:\", result)\n",
        "if __name__ ==\"__main__\":\n",
        "    main()"
      ],
      "metadata": {
        "colab": {
          "base_uri": "https://localhost:8080/"
        },
        "id": "JKJseBvrxmSE",
        "outputId": "708d2e67-72cb-415e-89d6-bfea37aaebdc"
      },
      "execution_count": null,
      "outputs": [
        {
          "output_type": "stream",
          "name": "stdout",
          "text": [
            "enter first number:23\n",
            "enter second number:56\n",
            "select operation\n",
            "1.add\n",
            "2.subtract\n",
            "3.multiply\n",
            "entered your choice(1/2/3):1\n",
            "result: 79.0\n"
          ]
        }
      ]
    },
    {
      "cell_type": "markdown",
      "source": [
        "#IMPORTING MODULES AND DIFFERENT IMPORT STATEMENS:-"
      ],
      "metadata": {
        "id": "-tQtTpH-25nW"
      }
    },
    {
      "cell_type": "markdown",
      "source": [
        "->>In python Modules are used to organize code into reusable and manageable files.                     \n",
        "->>We can import modules and their components using the 'import' statement.                                      \n",
        "->>There are few variations of import statements:"
      ],
      "metadata": {
        "id": "ZE1QgVBO3dy6"
      }
    },
    {
      "cell_type": "markdown",
      "source": [
        "##a.IMPORTING THE ENTIRE MODULE:"
      ],
      "metadata": {
        "id": "5PFMLf-14wi1"
      }
    },
    {
      "cell_type": "markdown",
      "source": [
        "*import module_name*"
      ],
      "metadata": {
        "id": "pRpmzTI-6G0u"
      }
    },
    {
      "cell_type": "markdown",
      "source": [
        "##b.IMPORTING SPECIFIC COMPONENTS:"
      ],
      "metadata": {
        "id": "QcGsHnPZ42mi"
      }
    },
    {
      "cell_type": "markdown",
      "source": [
        "*from module_name import component_name*"
      ],
      "metadata": {
        "id": "rDWZ9jno6Qyu"
      }
    },
    {
      "cell_type": "markdown",
      "source": [
        "##c.IMPORTING MULTIPLE COMPONENTS:"
      ],
      "metadata": {
        "id": "IlfrvUtj49dZ"
      }
    },
    {
      "cell_type": "markdown",
      "source": [
        "*from module_name import component 1, component 2, component 3*"
      ],
      "metadata": {
        "id": "DJepAzFt6fK4"
      }
    },
    {
      "cell_type": "markdown",
      "source": [
        "###d.IMPORTING WITH AN ALIAS:"
      ],
      "metadata": {
        "id": "Bj18TSvT5MZU"
      }
    },
    {
      "cell_type": "markdown",
      "source": [
        "*import module_name as alias*"
      ],
      "metadata": {
        "id": "uWdd4TeS6tZ2"
      }
    },
    {
      "cell_type": "markdown",
      "source": [
        "###e.IMPORTING ALL COMPONENTS:"
      ],
      "metadata": {
        "id": "nmrAmtnW5WzR"
      }
    },
    {
      "cell_type": "markdown",
      "source": [
        "***from module_name import****"
      ],
      "metadata": {
        "id": "4jM9uzQ36ziF"
      }
    },
    {
      "cell_type": "markdown",
      "source": [
        "#TYPES OF MODULES:-"
      ],
      "metadata": {
        "id": "P44GCfKo3ysp"
      }
    },
    {
      "cell_type": "markdown",
      "source": [
        "\n",
        "1.  *Built-in modules:* These are modules that come pre-installed with Python, such as math, random, and datetime. They provide a wide range of functionalities that you can directly use in your code.\n",
        "2.  *External modules:* These are modules that are created by other developers and can be installed using package managers like pip. Examples include pandas, numpy, and requests. External modules extend the functionality of Python and allow you to perform specific tasks efficiently.\n",
        "3.  *User-defined modules:* These are modules that you create yourself to organize your code into reusable components. You can define functions, classes, and variables in these modules and import them into other Python scripts.                    \n",
        "\n",
        "4.  *`os` module:* This module provides functions for interacting with the operating system, allowing you to perform tasks like file and directory operations.\n",
        "5.  *`time` module:* This module provides functions for working with time-related operations, such as getting the current time, pausing execution, or measuring time intervals.\n",
        "6.  *`json` module:* This module allows you to work with JSON (JavaScript Object Notation) data, including parsing JSON strings and serializing Python objects into JSON format.\n",
        "7.  *`re` module:* This module provides support for regular expressions, allowing you to search, match, and manipulate strings based on specific patterns.\n",
        "8.  *`csv` module:* This module provides functionality for reading and writing CSV (Comma Separated Values) files, which are commonly used for storing tabular data.                   \n",
        "Remember, these are just a few examples, and there are many more modules available for various purposes."
      ],
      "metadata": {
        "id": "tHRjAeH247vN"
      }
    },
    {
      "cell_type": "markdown",
      "source": [],
      "metadata": {
        "id": "kNroL83v43Yt"
      }
    }
  ]
}